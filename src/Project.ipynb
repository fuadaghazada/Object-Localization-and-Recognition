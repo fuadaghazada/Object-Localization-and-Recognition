{
 "cells": [
  {
   "cell_type": "markdown",
   "metadata": {},
   "source": [
    "# Object Localization and Recognition"
   ]
  },
  {
   "cell_type": "markdown",
   "metadata": {},
   "source": [
    "### Necessary libraries/modules"
   ]
  },
  {
   "cell_type": "code",
   "execution_count": 4,
   "metadata": {},
   "outputs": [],
   "source": [
    "import os\n",
    "import pickle\n",
    "import numpy as np\n",
    "import cv2\n",
    "import matplotlib.pyplot as plt\n",
    "\n",
    "from resnet import resnet50\n",
    "from loading_data import load_train_dataset\n",
    "from testing import test\n",
    "from evaluation import read_test_data, evaluate1, evaluate2\n",
    "\n",
    "from training_svm import train_SVM\n",
    "\n",
    "from const import TEST_DIR"
   ]
  },
  {
   "cell_type": "code",
   "execution_count": 5,
   "metadata": {},
   "outputs": [],
   "source": [
    "TRAIN_FLAG = False"
   ]
  },
  {
   "cell_type": "code",
   "execution_count": 6,
   "metadata": {},
   "outputs": [],
   "source": [
    "# Class label (unique)\n",
    "class_labels = np.asarray(['n01615121', 'n02099601', 'n02123159', 'n02129604', 'n02317335',\n",
    "                           'n02391049', 'n02410509', 'n02422699', 'n02481823', 'n02504458'])\n",
    "# Actual names\n",
    "class_names = np.asarray(['eagle', 'dog', 'cat', 'tiger', 'star',\n",
    "                          'zebra', 'bison', 'antelope', 'chimpanzee', 'elephant'])"
   ]
  },
  {
   "cell_type": "code",
   "execution_count": 7,
   "metadata": {},
   "outputs": [],
   "source": [
    "# Creating ResNet50 model\n",
    "model = resnet50(pretrained=True)"
   ]
  },
  {
   "cell_type": "markdown",
   "metadata": {},
   "source": [
    "### Training"
   ]
  },
  {
   "cell_type": "code",
   "execution_count": 8,
   "metadata": {
    "scrolled": true
   },
   "outputs": [],
   "source": [
    "if TRAIN_FLAG is True:\n",
    "    # Loading the train set (feature vectors and feature label)\n",
    "    train_features = load_train_dataset(model)"
   ]
  },
  {
   "cell_type": "code",
   "execution_count": 9,
   "metadata": {},
   "outputs": [],
   "source": [
    "if TRAIN_FLAG is True:\n",
    "    # Feature vectors and label for Train set\n",
    "    train_feature_vectors = [feature['feature_vec'] for feature in train_features]\n",
    "    train_feature_labels = [feature['label'] for feature in train_features]"
   ]
  },
  {
   "cell_type": "code",
   "execution_count": 10,
   "metadata": {},
   "outputs": [],
   "source": [
    "if TRAIN_FLAG is True:\n",
    "    # One vs all training\n",
    "    svm_models = train_SVM(train_feature_vectors, train_feature_labels, class_labels)"
   ]
  },
  {
   "cell_type": "markdown",
   "metadata": {},
   "source": [
    "### Testing"
   ]
  },
  {
   "cell_type": "code",
   "execution_count": 11,
   "metadata": {},
   "outputs": [],
   "source": [
    "# Loading the models before testing\n",
    "svm_models = []\n",
    "for i in range(10):\n",
    "    svm_model = pickle.load(open('../model/svm_model_{}.obj'.format(i), 'rb'))\n",
    "    svm_models.append(svm_model)"
   ]
  },
  {
   "cell_type": "code",
   "execution_count": 12,
   "metadata": {},
   "outputs": [],
   "source": [
    "# Edge detection object ('Edge box' method)\n",
    "edge_detection = cv2.ximgproc.createStructuredEdgeDetection('../model/model.yml')"
   ]
  },
  {
   "cell_type": "code",
   "execution_count": 13,
   "metadata": {},
   "outputs": [
    {
     "name": "stdout",
     "output_type": "stream",
     "text": [
      "\n",
      "Testing: '0.JPEG'...\n",
      "Extracting candidate windows: '0.JPEG'...\n",
      "Classifying and Localizing: '0.JPEG'...\n",
      "Predictions: '0.JPEG'...\n",
      "\n",
      "Testing: '1.JPEG'...\n",
      "Extracting candidate windows: '1.JPEG'...\n",
      "Classifying and Localizing: '1.JPEG'...\n",
      "Predictions: '1.JPEG'...\n",
      "\n",
      "Testing: '2.JPEG'...\n",
      "Extracting candidate windows: '2.JPEG'...\n",
      "Classifying and Localizing: '2.JPEG'...\n",
      "Predictions: '2.JPEG'...\n",
      "\n",
      "Testing: '3.JPEG'...\n",
      "Extracting candidate windows: '3.JPEG'...\n",
      "Classifying and Localizing: '3.JPEG'...\n",
      "Predictions: '3.JPEG'...\n",
      "\n",
      "Testing: '4.JPEG'...\n",
      "Extracting candidate windows: '4.JPEG'...\n",
      "Classifying and Localizing: '4.JPEG'...\n",
      "Predictions: '4.JPEG'...\n",
      "\n",
      "Testing: '5.JPEG'...\n",
      "Extracting candidate windows: '5.JPEG'...\n",
      "Classifying and Localizing: '5.JPEG'...\n",
      "Predictions: '5.JPEG'...\n",
      "\n",
      "Testing: '6.JPEG'...\n",
      "Extracting candidate windows: '6.JPEG'...\n",
      "Classifying and Localizing: '6.JPEG'...\n",
      "Predictions: '6.JPEG'...\n",
      "\n",
      "Testing: '7.JPEG'...\n",
      "Extracting candidate windows: '7.JPEG'...\n",
      "Classifying and Localizing: '7.JPEG'...\n",
      "Predictions: '7.JPEG'...\n",
      "\n",
      "Testing: '8.JPEG'...\n",
      "Extracting candidate windows: '8.JPEG'...\n",
      "Classifying and Localizing: '8.JPEG'...\n",
      "Predictions: '8.JPEG'...\n",
      "\n",
      "Testing: '9.JPEG'...\n",
      "Extracting candidate windows: '9.JPEG'...\n",
      "Classifying and Localizing: '9.JPEG'...\n",
      "Predictions: '9.JPEG'...\n"
     ]
    }
   ],
   "source": [
    "# Testing results\n",
    "test_predictions, box_boundaries = test(edge_detection, model, svm_models)"
   ]
  },
  {
   "cell_type": "markdown",
   "metadata": {},
   "source": [
    "### Evaluation"
   ]
  },
  {
   "cell_type": "code",
   "execution_count": 11,
   "metadata": {},
   "outputs": [],
   "source": [
    "# Evaluation 1\n",
    "evaluation1_results = evaluate1(test_predictions, class_labels)"
   ]
  },
  {
   "cell_type": "code",
   "execution_count": 12,
   "metadata": {},
   "outputs": [],
   "source": [
    "# Evaluation 2\n",
    "evaluation2_results = evaluate2(test_predictions, box_boundaries, class_labels)"
   ]
  },
  {
   "cell_type": "code",
   "execution_count": 23,
   "metadata": {},
   "outputs": [
    {
     "data": {
      "text/plain": [
       "[{'label': 0,\n",
       "  'metrics': {'accuracy': 98.0,\n",
       "   'TP': 10,\n",
       "   'FP': 2,\n",
       "   'FN': 0,\n",
       "   'TN': 88,\n",
       "   'recall': 0.9999999989999999,\n",
       "   'preicision:': 0.8333333326388889,\n",
       "   'NPV': 0.9999999998863637,\n",
       "   'FPR': 0.022222222219753087,\n",
       "   'FDR': 0.16666666652777776,\n",
       "   'F1': 0.9090909033057851,\n",
       "   'F2': 0.9615384583949703}},\n",
       " {'label': 1,\n",
       "  'metrics': {'accuracy': 99.0,\n",
       "   'TP': 9,\n",
       "   'FP': 0,\n",
       "   'FN': 1,\n",
       "   'TN': 90,\n",
       "   'recall': 0.8999999991,\n",
       "   'preicision:': 0.9999999988888888,\n",
       "   'NPV': 0.9890109889023065,\n",
       "   'FPR': 0.0,\n",
       "   'FDR': 0.0,\n",
       "   'F1': 0.9473684150692521,\n",
       "   'F2': 0.9183673441274468}},\n",
       " {'label': 2,\n",
       "  'metrics': {'accuracy': 99.0,\n",
       "   'TP': 9,\n",
       "   'FP': 0,\n",
       "   'FN': 1,\n",
       "   'TN': 90,\n",
       "   'recall': 0.8999999991,\n",
       "   'preicision:': 0.9999999988888888,\n",
       "   'NPV': 0.9890109889023065,\n",
       "   'FPR': 0.0,\n",
       "   'FDR': 0.0,\n",
       "   'F1': 0.9473684150692521,\n",
       "   'F2': 0.9183673441274468}},\n",
       " {'label': 3,\n",
       "  'metrics': {'accuracy': 100.0,\n",
       "   'TP': 10,\n",
       "   'FP': 0,\n",
       "   'FN': 0,\n",
       "   'TN': 90,\n",
       "   'recall': 0.9999999989999999,\n",
       "   'preicision:': 0.9999999989999999,\n",
       "   'NPV': 0.999999999888889,\n",
       "   'FPR': 0.0,\n",
       "   'FDR': 0.0,\n",
       "   'F1': 0.999999994,\n",
       "   'F2': 0.999999997}},\n",
       " {'label': 4,\n",
       "  'metrics': {'accuracy': 100.0,\n",
       "   'TP': 10,\n",
       "   'FP': 0,\n",
       "   'FN': 0,\n",
       "   'TN': 90,\n",
       "   'recall': 0.9999999989999999,\n",
       "   'preicision:': 0.9999999989999999,\n",
       "   'NPV': 0.999999999888889,\n",
       "   'FPR': 0.0,\n",
       "   'FDR': 0.0,\n",
       "   'F1': 0.999999994,\n",
       "   'F2': 0.999999997}},\n",
       " {'label': 5,\n",
       "  'metrics': {'accuracy': 100.0,\n",
       "   'TP': 10,\n",
       "   'FP': 0,\n",
       "   'FN': 0,\n",
       "   'TN': 90,\n",
       "   'recall': 0.9999999989999999,\n",
       "   'preicision:': 0.9999999989999999,\n",
       "   'NPV': 0.999999999888889,\n",
       "   'FPR': 0.0,\n",
       "   'FDR': 0.0,\n",
       "   'F1': 0.999999994,\n",
       "   'F2': 0.999999997}},\n",
       " {'label': 6,\n",
       "  'metrics': {'accuracy': 98.0,\n",
       "   'TP': 8,\n",
       "   'FP': 0,\n",
       "   'FN': 2,\n",
       "   'TN': 90,\n",
       "   'recall': 0.7999999992,\n",
       "   'preicision:': 0.9999999987499999,\n",
       "   'NPV': 0.9782608694588848,\n",
       "   'FPR': 0.0,\n",
       "   'FDR': 0.0,\n",
       "   'F1': 0.888888882962963,\n",
       "   'F2': 0.8333333307291667}},\n",
       " {'label': 7,\n",
       "  'metrics': {'accuracy': 100.0,\n",
       "   'TP': 10,\n",
       "   'FP': 0,\n",
       "   'FN': 0,\n",
       "   'TN': 90,\n",
       "   'recall': 0.9999999989999999,\n",
       "   'preicision:': 0.9999999989999999,\n",
       "   'NPV': 0.999999999888889,\n",
       "   'FPR': 0.0,\n",
       "   'FDR': 0.0,\n",
       "   'F1': 0.999999994,\n",
       "   'F2': 0.999999997}},\n",
       " {'label': 8,\n",
       "  'metrics': {'accuracy': 98.0,\n",
       "   'TP': 10,\n",
       "   'FP': 2,\n",
       "   'FN': 0,\n",
       "   'TN': 88,\n",
       "   'recall': 0.9999999989999999,\n",
       "   'preicision:': 0.8333333326388889,\n",
       "   'NPV': 0.9999999998863637,\n",
       "   'FPR': 0.022222222219753087,\n",
       "   'FDR': 0.16666666652777776,\n",
       "   'F1': 0.9090909033057851,\n",
       "   'F2': 0.9615384583949703}},\n",
       " {'label': 9,\n",
       "  'metrics': {'accuracy': 98.0,\n",
       "   'TP': 9,\n",
       "   'FP': 1,\n",
       "   'FN': 1,\n",
       "   'TN': 89,\n",
       "   'recall': 0.8999999991,\n",
       "   'preicision:': 0.8999999991,\n",
       "   'NPV': 0.9888888887790124,\n",
       "   'FPR': 0.011111111109876544,\n",
       "   'FDR': 0.0999999999,\n",
       "   'F1': 0.8999999941,\n",
       "   'F2': 0.8999999970999999}}]"
      ]
     },
     "execution_count": 23,
     "metadata": {},
     "output_type": "execute_result"
    }
   ],
   "source": [
    "evaluation1_results"
   ]
  },
  {
   "cell_type": "code",
   "execution_count": 24,
   "metadata": {},
   "outputs": [
    {
     "data": {
      "text/plain": [
       "{'overall_accuracy': 0.95,\n",
       " 'localization_accuracies': array([1.72312782e-05, 8.81000347e-06, 7.52105651e-06, 1.50334132e-05,\n",
       "        6.87800483e-06, 9.33177017e-05, 1.57314612e-05, 6.54846302e-06,\n",
       "        3.51927700e-06, 6.96551165e-06, 8.37825658e-06, 9.39458603e-05,\n",
       "        8.54386320e-06, 9.84610663e-06, 5.54185013e-06, 1.63529623e-05,\n",
       "        9.52852841e-06, 2.41777579e-05, 1.29582356e-05, 7.54522514e-06,\n",
       "        9.04797235e-06, 9.87689898e-06, 7.14607288e-06, 7.15261535e-06,\n",
       "        7.24160155e-06, 5.24647961e-06, 1.07750893e-05, 3.16435669e-05,\n",
       "        3.15069788e-05, 7.70594128e-05, 7.63672369e-06, 1.05598948e-05,\n",
       "        1.07500296e-05, 3.12265151e-05, 1.64254858e-05, 8.63021563e-06,\n",
       "        5.21659840e-06, 2.22851158e-05, 2.88508699e-05, 7.84495785e-06,\n",
       "        4.63009008e-06, 9.04617390e-05, 2.42545200e-05, 6.49916719e-06,\n",
       "        9.12360105e-06, 1.01596074e-05, 1.72419500e-05, 1.41433158e-05,\n",
       "        7.81676607e-06, 2.12541428e-05, 9.10433833e-06, 7.06342510e-06,\n",
       "        9.06182049e-06, 1.07936576e-05, 7.16239100e-06, 1.36108910e-05,\n",
       "        7.25195728e-06, 5.82430970e-05, 9.67303698e-06, 2.40912879e-05,\n",
       "        6.59678473e-06, 1.33166807e-05, 9.02742539e-06, 6.54878847e-06,\n",
       "        6.27354707e-06, 1.61188930e-05, 1.85774968e-05, 1.56207083e-05,\n",
       "        5.82821907e-06, 7.10393771e-06, 5.33584137e-06, 5.46307328e-06,\n",
       "        2.60303051e-05, 1.60668437e-05, 5.01658181e-06, 1.75092410e-05,\n",
       "        7.07418700e-06, 1.18934173e-05, 1.18106051e-05, 8.57744701e-06,\n",
       "        1.17922806e-05, 8.11316264e-06, 1.35383387e-05, 8.70803241e-06,\n",
       "        6.32427065e-06, 8.37878826e-06, 7.28772674e-06, 1.25168229e-05,\n",
       "        1.64874267e-05, 1.47733376e-05, 2.23011030e-05, 3.26595665e-06,\n",
       "        7.29181650e-06, 8.39003599e-06, 7.99551267e-06, 1.45706751e-05,\n",
       "        8.62537413e-06, 1.62295712e-05, 1.79926561e-05, 7.75210314e-06])}"
      ]
     },
     "execution_count": 24,
     "metadata": {},
     "output_type": "execute_result"
    }
   ],
   "source": [
    "evaluation2_results"
   ]
  },
  {
   "cell_type": "markdown",
   "metadata": {},
   "source": [
    "### Displaying on sample images"
   ]
  },
  {
   "cell_type": "code",
   "execution_count": 14,
   "metadata": {},
   "outputs": [],
   "source": [
    "idx = 0"
   ]
  },
  {
   "cell_type": "code",
   "execution_count": 15,
   "metadata": {},
   "outputs": [],
   "source": [
    "'''\n",
    "    Drawing the overlayed image with box boundaries\n",
    "    \n",
    "    :param idx - index of the image in test image dataset\n",
    "    :param draw_all_boxes - flag for determining the boxes for overlayed image:\n",
    "                                - True: all 50 (max) boxes are drawn\n",
    "                                - False: only the 'best' predicted box is drawn\n",
    "'''\n",
    "def overlayed_image(idx, draw_all_boxes=False):\n",
    "    # Reading image in index 'idx'\n",
    "    image = cv2.imread(os.path.join(TEST_DIR, 'images', '{}.JPEG'.format(idx)))\n",
    "    \n",
    "    # Prediction data: label, boxes\n",
    "    predicted_label, box_index = test_predictions[idx]\n",
    "    \n",
    "    if draw_all_boxes is True:\n",
    "        for box in box_boundaries[idx]:\n",
    "            box_x1, box_y1, box_x2, box_y2 = box\n",
    "            cv2.rectangle(image, (box_x1, box_y1), (box_x2, box_y2), (255, 0, 0), 1)\n",
    "    else:\n",
    "        # Draw only the 'best' predicted box\n",
    "        box_x1, box_y1, box_x2, box_y2 = box_boundaries[idx][box_index]\n",
    "        cv2.rectangle(image, (box_x1, box_y1), (box_x2, box_y2), (255, 0, 0), 1)\n",
    "\n",
    "    return image"
   ]
  },
  {
   "cell_type": "code",
   "execution_count": 16,
   "metadata": {},
   "outputs": [],
   "source": [
    "cv2.imshow(\"test\", overlayed_image(idx))\n",
    "cv2.waitKey(0)\n",
    "cv2.destroyAllWindows()"
   ]
  },
  {
   "cell_type": "code",
   "execution_count": null,
   "metadata": {},
   "outputs": [],
   "source": []
  }
 ],
 "metadata": {
  "kernelspec": {
   "display_name": "Python 3",
   "language": "python",
   "name": "python3"
  },
  "language_info": {
   "codemirror_mode": {
    "name": "ipython",
    "version": 3
   },
   "file_extension": ".py",
   "mimetype": "text/x-python",
   "name": "python",
   "nbconvert_exporter": "python",
   "pygments_lexer": "ipython3",
   "version": "3.7.2"
  }
 },
 "nbformat": 4,
 "nbformat_minor": 2
}
