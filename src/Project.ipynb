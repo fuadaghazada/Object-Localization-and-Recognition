{
 "cells": [
  {
   "cell_type": "markdown",
   "metadata": {},
   "source": [
    "# Object Localization and Recognition"
   ]
  },
  {
   "cell_type": "markdown",
   "metadata": {},
   "source": [
    "### Necessary libraries/modules"
   ]
  },
  {
   "cell_type": "code",
   "execution_count": 1,
   "metadata": {},
   "outputs": [],
   "source": [
    "import pickle\n",
    "import numpy as np\n",
    "import cv2\n",
    "\n",
    "from resnet import resnet50\n",
    "from loading_data import load_train_dataset\n",
    "from testing import extract_candidate_windows, classify_localize, predict_features, test\n",
    "from evaluation import read_test_data, evaluate1, evaluate2\n",
    "\n",
    "from training_svm import train_SVM"
   ]
  },
  {
   "cell_type": "code",
   "execution_count": 2,
   "metadata": {},
   "outputs": [],
   "source": [
    "TRAIN_FLAG = False"
   ]
  },
  {
   "cell_type": "code",
   "execution_count": 3,
   "metadata": {},
   "outputs": [],
   "source": [
    "# Class label (unique)\n",
    "class_labels = np.asarray(['n01615121', 'n02099601', 'n02123159', 'n02129604', 'n02317335',\n",
    "                           'n02391049', 'n02410509', 'n02422699', 'n02481823', 'n02504458'])"
   ]
  },
  {
   "cell_type": "code",
   "execution_count": 4,
   "metadata": {},
   "outputs": [],
   "source": [
    "# Creating ResNet50 model\n",
    "model = resnet50(pretrained=True)"
   ]
  },
  {
   "cell_type": "markdown",
   "metadata": {},
   "source": [
    "### Training"
   ]
  },
  {
   "cell_type": "code",
   "execution_count": 5,
   "metadata": {
    "scrolled": true
   },
   "outputs": [],
   "source": [
    "if TRAIN_FLAG is True:\n",
    "    # Loading the train set (feature vectors and feature label)\n",
    "    train_features = load_train_dataset(model)"
   ]
  },
  {
   "cell_type": "code",
   "execution_count": 6,
   "metadata": {},
   "outputs": [],
   "source": [
    "if TRAIN_FLAG is True:\n",
    "    # Feature vectors and label for Train set\n",
    "    train_feature_vectors = [feature['feature_vec'] for feature in train_features]\n",
    "    train_feature_labels = [feature['label'] for feature in train_features]"
   ]
  },
  {
   "cell_type": "code",
   "execution_count": 7,
   "metadata": {},
   "outputs": [],
   "source": [
    "if TRAIN_FLAG is True:\n",
    "    # One vs all training\n",
    "    svm_models = train_SVM(train_feature_vectors, train_feature_labels, class_labels)"
   ]
  },
  {
   "cell_type": "markdown",
   "metadata": {},
   "source": [
    "### Testing"
   ]
  },
  {
   "cell_type": "code",
   "execution_count": 10,
   "metadata": {},
   "outputs": [
    {
     "ename": "NameError",
     "evalue": "name 'pickle' is not defined",
     "output_type": "error",
     "traceback": [
      "\u001b[0;31m---------------------------------------------------------------------------\u001b[0m",
      "\u001b[0;31mNameError\u001b[0m                                 Traceback (most recent call last)",
      "\u001b[0;32m<ipython-input-10-a16613180422>\u001b[0m in \u001b[0;36m<module>\u001b[0;34m\u001b[0m\n\u001b[1;32m      2\u001b[0m \u001b[0msvm_models\u001b[0m \u001b[0;34m=\u001b[0m \u001b[0;34m[\u001b[0m\u001b[0;34m]\u001b[0m\u001b[0;34m\u001b[0m\u001b[0;34m\u001b[0m\u001b[0m\n\u001b[1;32m      3\u001b[0m \u001b[0;32mfor\u001b[0m \u001b[0mi\u001b[0m \u001b[0;32min\u001b[0m \u001b[0mrange\u001b[0m\u001b[0;34m(\u001b[0m\u001b[0;36m10\u001b[0m\u001b[0;34m)\u001b[0m\u001b[0;34m:\u001b[0m\u001b[0;34m\u001b[0m\u001b[0;34m\u001b[0m\u001b[0m\n\u001b[0;32m----> 4\u001b[0;31m     \u001b[0msvm_model\u001b[0m \u001b[0;34m=\u001b[0m \u001b[0mpickle\u001b[0m\u001b[0;34m.\u001b[0m\u001b[0mload\u001b[0m\u001b[0;34m(\u001b[0m\u001b[0mopen\u001b[0m\u001b[0;34m(\u001b[0m\u001b[0;34m'../model/svm_model_{}.obj'\u001b[0m\u001b[0;34m.\u001b[0m\u001b[0mformat\u001b[0m\u001b[0;34m(\u001b[0m\u001b[0mi\u001b[0m\u001b[0;34m)\u001b[0m\u001b[0;34m,\u001b[0m \u001b[0;34m'rb'\u001b[0m\u001b[0;34m)\u001b[0m\u001b[0;34m)\u001b[0m\u001b[0;34m\u001b[0m\u001b[0;34m\u001b[0m\u001b[0m\n\u001b[0m\u001b[1;32m      5\u001b[0m     \u001b[0msvm_models\u001b[0m\u001b[0;34m.\u001b[0m\u001b[0mappend\u001b[0m\u001b[0;34m(\u001b[0m\u001b[0msvm_model\u001b[0m\u001b[0;34m)\u001b[0m\u001b[0;34m\u001b[0m\u001b[0;34m\u001b[0m\u001b[0m\n",
      "\u001b[0;31mNameError\u001b[0m: name 'pickle' is not defined"
     ]
    }
   ],
   "source": [
    "# Loading the models before testing\n",
    "svm_models = []\n",
    "for i in range(10):\n",
    "    svm_model = pickle.load(open('../model/svm_model_{}.obj'.format(i), 'rb'))\n",
    "    svm_models.append(svm_model)"
   ]
  },
  {
   "cell_type": "code",
   "execution_count": 8,
   "metadata": {},
   "outputs": [],
   "source": [
    "# Edge detection object ('Edge box' method)\n",
    "edge_detection = cv2.ximgproc.createStructuredEdgeDetection('../model/model.yml')"
   ]
  },
  {
   "cell_type": "code",
   "execution_count": 9,
   "metadata": {},
   "outputs": [
    {
     "ename": "NameError",
     "evalue": "name 'svm_models' is not defined",
     "output_type": "error",
     "traceback": [
      "\u001b[0;31m---------------------------------------------------------------------------\u001b[0m",
      "\u001b[0;31mNameError\u001b[0m                                 Traceback (most recent call last)",
      "\u001b[0;32m<ipython-input-9-1d606db4ef84>\u001b[0m in \u001b[0;36m<module>\u001b[0;34m\u001b[0m\n\u001b[1;32m      1\u001b[0m \u001b[0;31m# Testing results\u001b[0m\u001b[0;34m\u001b[0m\u001b[0;34m\u001b[0m\u001b[0;34m\u001b[0m\u001b[0m\n\u001b[0;32m----> 2\u001b[0;31m \u001b[0mtest_predictions\u001b[0m\u001b[0;34m,\u001b[0m \u001b[0mbox_boundaries\u001b[0m \u001b[0;34m=\u001b[0m \u001b[0mtest\u001b[0m\u001b[0;34m(\u001b[0m\u001b[0medge_detection\u001b[0m\u001b[0;34m,\u001b[0m \u001b[0mmodel\u001b[0m\u001b[0;34m,\u001b[0m \u001b[0msvm_models\u001b[0m\u001b[0;34m)\u001b[0m\u001b[0;34m\u001b[0m\u001b[0;34m\u001b[0m\u001b[0m\n\u001b[0m",
      "\u001b[0;31mNameError\u001b[0m: name 'svm_models' is not defined"
     ]
    }
   ],
   "source": [
    "# Testing results\n",
    "test_predictions, box_boundaries = test(edge_detection, model, svm_models)"
   ]
  },
  {
   "cell_type": "markdown",
   "metadata": {},
   "source": [
    "### Evaluation"
   ]
  },
  {
   "cell_type": "code",
   "execution_count": 12,
   "metadata": {},
   "outputs": [],
   "source": [
    "# Evaluation 1\n",
    "evaluation1_results = evaluate1(test_predictions, class_labels)"
   ]
  },
  {
   "cell_type": "code",
   "execution_count": 13,
   "metadata": {},
   "outputs": [],
   "source": [
    "# Evaluation 2\n",
    "evaluation2_results = evaluate2(test_predictions, box_boundaries, class_labels)"
   ]
  },
  {
   "cell_type": "code",
   "execution_count": 14,
   "metadata": {},
   "outputs": [
    {
     "data": {
      "text/plain": [
       "[{'label': 0,\n",
       "  'metrics': {'accuracy': 100.0,\n",
       "   'TP': 0,\n",
       "   'FP': 0,\n",
       "   'FN': 0,\n",
       "   'TN': 5,\n",
       "   'recall': 0.0,\n",
       "   'preicision:': 0.0,\n",
       "   'NPV': 0.9999999980000001,\n",
       "   'FPR': 0.0,\n",
       "   'FDR': 0.0,\n",
       "   'F1': 0.0,\n",
       "   'F2': 0.0}},\n",
       " {'label': 1,\n",
       "  'metrics': {'accuracy': 100.0,\n",
       "   'TP': 0,\n",
       "   'FP': 0,\n",
       "   'FN': 0,\n",
       "   'TN': 5,\n",
       "   'recall': 0.0,\n",
       "   'preicision:': 0.0,\n",
       "   'NPV': 0.9999999980000001,\n",
       "   'FPR': 0.0,\n",
       "   'FDR': 0.0,\n",
       "   'F1': 0.0,\n",
       "   'F2': 0.0}},\n",
       " {'label': 2,\n",
       "  'metrics': {'accuracy': 100.0,\n",
       "   'TP': 0,\n",
       "   'FP': 0,\n",
       "   'FN': 0,\n",
       "   'TN': 5,\n",
       "   'recall': 0.0,\n",
       "   'preicision:': 0.0,\n",
       "   'NPV': 0.9999999980000001,\n",
       "   'FPR': 0.0,\n",
       "   'FDR': 0.0,\n",
       "   'F1': 0.0,\n",
       "   'F2': 0.0}},\n",
       " {'label': 3,\n",
       "  'metrics': {'accuracy': 100.0,\n",
       "   'TP': 0,\n",
       "   'FP': 0,\n",
       "   'FN': 0,\n",
       "   'TN': 5,\n",
       "   'recall': 0.0,\n",
       "   'preicision:': 0.0,\n",
       "   'NPV': 0.9999999980000001,\n",
       "   'FPR': 0.0,\n",
       "   'FDR': 0.0,\n",
       "   'F1': 0.0,\n",
       "   'F2': 0.0}},\n",
       " {'label': 4,\n",
       "  'metrics': {'accuracy': 100.0,\n",
       "   'TP': 0,\n",
       "   'FP': 0,\n",
       "   'FN': 0,\n",
       "   'TN': 5,\n",
       "   'recall': 0.0,\n",
       "   'preicision:': 0.0,\n",
       "   'NPV': 0.9999999980000001,\n",
       "   'FPR': 0.0,\n",
       "   'FDR': 0.0,\n",
       "   'F1': 0.0,\n",
       "   'F2': 0.0}},\n",
       " {'label': 5,\n",
       "  'metrics': {'accuracy': 100.0,\n",
       "   'TP': 0,\n",
       "   'FP': 0,\n",
       "   'FN': 0,\n",
       "   'TN': 5,\n",
       "   'recall': 0.0,\n",
       "   'preicision:': 0.0,\n",
       "   'NPV': 0.9999999980000001,\n",
       "   'FPR': 0.0,\n",
       "   'FDR': 0.0,\n",
       "   'F1': 0.0,\n",
       "   'F2': 0.0}},\n",
       " {'label': 6,\n",
       "  'metrics': {'accuracy': 100.0,\n",
       "   'TP': 0,\n",
       "   'FP': 0,\n",
       "   'FN': 0,\n",
       "   'TN': 5,\n",
       "   'recall': 0.0,\n",
       "   'preicision:': 0.0,\n",
       "   'NPV': 0.9999999980000001,\n",
       "   'FPR': 0.0,\n",
       "   'FDR': 0.0,\n",
       "   'F1': 0.0,\n",
       "   'F2': 0.0}},\n",
       " {'label': 7,\n",
       "  'metrics': {'accuracy': 100.0,\n",
       "   'TP': 0,\n",
       "   'FP': 0,\n",
       "   'FN': 0,\n",
       "   'TN': 5,\n",
       "   'recall': 0.0,\n",
       "   'preicision:': 0.0,\n",
       "   'NPV': 0.9999999980000001,\n",
       "   'FPR': 0.0,\n",
       "   'FDR': 0.0,\n",
       "   'F1': 0.0,\n",
       "   'F2': 0.0}},\n",
       " {'label': 8,\n",
       "  'metrics': {'accuracy': 100.0,\n",
       "   'TP': 0,\n",
       "   'FP': 0,\n",
       "   'FN': 0,\n",
       "   'TN': 5,\n",
       "   'recall': 0.0,\n",
       "   'preicision:': 0.0,\n",
       "   'NPV': 0.9999999980000001,\n",
       "   'FPR': 0.0,\n",
       "   'FDR': 0.0,\n",
       "   'F1': 0.0,\n",
       "   'F2': 0.0}},\n",
       " {'label': 9,\n",
       "  'metrics': {'accuracy': 100.0,\n",
       "   'TP': 0,\n",
       "   'FP': 0,\n",
       "   'FN': 0,\n",
       "   'TN': 5,\n",
       "   'recall': 0.0,\n",
       "   'preicision:': 0.0,\n",
       "   'NPV': 0.9999999980000001,\n",
       "   'FPR': 0.0,\n",
       "   'FDR': 0.0,\n",
       "   'F1': 0.0,\n",
       "   'F2': 0.0}}]"
      ]
     },
     "execution_count": 14,
     "metadata": {},
     "output_type": "execute_result"
    }
   ],
   "source": [
    "evaluation1_results"
   ]
  },
  {
   "cell_type": "code",
   "execution_count": 12,
   "metadata": {},
   "outputs": [
    {
     "data": {
      "text/plain": [
       "{'overall_accuracy': 1.0,\n",
       " 'localization_accuracies': array([1.72312782e-05, 8.81000347e-06, 7.52105651e-06, 1.50334132e-05,\n",
       "        6.87800483e-06])}"
      ]
     },
     "execution_count": 12,
     "metadata": {},
     "output_type": "execute_result"
    }
   ],
   "source": [
    "evaluation2_results"
   ]
  },
  {
   "cell_type": "code",
   "execution_count": null,
   "metadata": {},
   "outputs": [],
   "source": []
  }
 ],
 "metadata": {
  "kernelspec": {
   "display_name": "Python 3",
   "language": "python",
   "name": "python3"
  },
  "language_info": {
   "codemirror_mode": {
    "name": "ipython",
    "version": 3
   },
   "file_extension": ".py",
   "mimetype": "text/x-python",
   "name": "python",
   "nbconvert_exporter": "python",
   "pygments_lexer": "ipython3",
   "version": "3.7.2"
  }
 },
 "nbformat": 4,
 "nbformat_minor": 2
}
