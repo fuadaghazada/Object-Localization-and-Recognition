{
 "cells": [
  {
   "cell_type": "markdown",
   "metadata": {},
   "source": [
    "# Object Localization and Recognition"
   ]
  },
  {
   "cell_type": "markdown",
   "metadata": {},
   "source": [
    "### Necessary libraries/modules"
   ]
  },
  {
   "cell_type": "code",
   "execution_count": 6,
   "metadata": {},
   "outputs": [],
   "source": [
    "import numpy as np\n",
    "import cv2\n",
    "\n",
    "from resnet import resnet50\n",
    "from loading_data import load_train_dataset\n",
    "from testing import extract_candidate_windows, classify_localize, predict_features, test\n",
    "from evaluation import read_test_data, evaluate1, evaluate2\n",
    "\n",
    "from training_svm import train_SVM"
   ]
  },
  {
   "cell_type": "code",
   "execution_count": 4,
   "metadata": {},
   "outputs": [],
   "source": [
    "TRAIN_FLAG = False"
   ]
  },
  {
   "cell_type": "code",
   "execution_count": 3,
   "metadata": {},
   "outputs": [],
   "source": [
    "# Class label (unique)\n",
    "class_labels = np.asarray(['n01615121', 'n02099601', 'n02123159', 'n02129604', 'n02317335',\n",
    "                           'n02391049', 'n02410509', 'n02422699', 'n02481823', 'n02504458'])"
   ]
  },
  {
   "cell_type": "code",
   "execution_count": 2,
   "metadata": {},
   "outputs": [],
   "source": [
    "# Creating ResNet50 model\n",
    "model = resnet50(pretrained=True)"
   ]
  },
  {
   "cell_type": "markdown",
   "metadata": {},
   "source": [
    "### Training"
   ]
  },
  {
   "cell_type": "code",
   "execution_count": 5,
   "metadata": {
    "scrolled": true
   },
   "outputs": [],
   "source": [
    "if TRAIN_FLAG is True:\n",
    "    # Loading the train set (feature vectors and feature label)\n",
    "    train_features = load_train_dataset(model)"
   ]
  },
  {
   "cell_type": "code",
   "execution_count": null,
   "metadata": {},
   "outputs": [],
   "source": [
    "if TRAIN_FLAG is True:\n",
    "    # Feature vectors and label for Train set\n",
    "    train_feature_vectors = [feature['feature_vec'] for feature in train_features]\n",
    "    train_feature_labels = [feature['label'] for feature in train_features]"
   ]
  },
  {
   "cell_type": "code",
   "execution_count": null,
   "metadata": {},
   "outputs": [],
   "source": [
    "if TRAIN_FLAG is True:\n",
    "    # One vs all training\n",
    "    svm_models = train_SVM(train_feature_vectors, train_feature_labels, class_labels)"
   ]
  },
  {
   "cell_type": "markdown",
   "metadata": {},
   "source": [
    "### Testing"
   ]
  },
  {
   "cell_type": "code",
   "execution_count": null,
   "metadata": {},
   "outputs": [],
   "source": [
    "# Edge detection object ('Edge box' method)\n",
    "edge_detection = cv2.ximgproc.createStructuredEdgeDetection('../model/model.yml')"
   ]
  },
  {
   "cell_type": "code",
   "execution_count": null,
   "metadata": {},
   "outputs": [],
   "source": [
    "# Testing results\n",
    "test_predictions, box_boundaries = test(edge_detection, model, svm_models)"
   ]
  },
  {
   "cell_type": "code",
   "execution_count": 11,
   "metadata": {},
   "outputs": [
    {
     "data": {
      "text/plain": [
       "array([[ 4, 49],\n",
       "       [ 4, 26],\n",
       "       [ 4, 33],\n",
       "       [ 4, 43],\n",
       "       [ 4, 43]])"
      ]
     },
     "execution_count": 11,
     "metadata": {},
     "output_type": "execute_result"
    }
   ],
   "source": [
    "test_predictions"
   ]
  },
  {
   "cell_type": "markdown",
   "metadata": {},
   "source": [
    "### Evaluation"
   ]
  },
  {
   "cell_type": "code",
   "execution_count": 12,
   "metadata": {},
   "outputs": [],
   "source": [
    "# Evaluation 1\n",
    "evaluation1_results = evaluate1(test_predictions, class_labels)"
   ]
  },
  {
   "cell_type": "code",
   "execution_count": 13,
   "metadata": {},
   "outputs": [],
   "source": [
    "# Evaluation 2\n",
    "evaluation2_results = evaluate2(test_predictions, box_boundaries, class_labels)"
   ]
  },
  {
   "cell_type": "code",
   "execution_count": 14,
   "metadata": {},
   "outputs": [
    {
     "data": {
      "text/plain": [
       "[{'label': 0,\n",
       "  'metrics': {'accuracy': 100.0,\n",
       "   'TP': 0,\n",
       "   'FP': 0,\n",
       "   'FN': 0,\n",
       "   'TN': 5,\n",
       "   'recall': 0.0,\n",
       "   'preicision:': 0.0,\n",
       "   'NPV': 0.9999999980000001,\n",
       "   'FPR': 0.0,\n",
       "   'FDR': 0.0,\n",
       "   'F1': 0.0,\n",
       "   'F2': 0.0}},\n",
       " {'label': 1,\n",
       "  'metrics': {'accuracy': 100.0,\n",
       "   'TP': 0,\n",
       "   'FP': 0,\n",
       "   'FN': 0,\n",
       "   'TN': 5,\n",
       "   'recall': 0.0,\n",
       "   'preicision:': 0.0,\n",
       "   'NPV': 0.9999999980000001,\n",
       "   'FPR': 0.0,\n",
       "   'FDR': 0.0,\n",
       "   'F1': 0.0,\n",
       "   'F2': 0.0}},\n",
       " {'label': 2,\n",
       "  'metrics': {'accuracy': 100.0,\n",
       "   'TP': 0,\n",
       "   'FP': 0,\n",
       "   'FN': 0,\n",
       "   'TN': 5,\n",
       "   'recall': 0.0,\n",
       "   'preicision:': 0.0,\n",
       "   'NPV': 0.9999999980000001,\n",
       "   'FPR': 0.0,\n",
       "   'FDR': 0.0,\n",
       "   'F1': 0.0,\n",
       "   'F2': 0.0}},\n",
       " {'label': 3,\n",
       "  'metrics': {'accuracy': 100.0,\n",
       "   'TP': 0,\n",
       "   'FP': 0,\n",
       "   'FN': 0,\n",
       "   'TN': 5,\n",
       "   'recall': 0.0,\n",
       "   'preicision:': 0.0,\n",
       "   'NPV': 0.9999999980000001,\n",
       "   'FPR': 0.0,\n",
       "   'FDR': 0.0,\n",
       "   'F1': 0.0,\n",
       "   'F2': 0.0}},\n",
       " {'label': 4,\n",
       "  'metrics': {'accuracy': 100.0,\n",
       "   'TP': 0,\n",
       "   'FP': 0,\n",
       "   'FN': 0,\n",
       "   'TN': 5,\n",
       "   'recall': 0.0,\n",
       "   'preicision:': 0.0,\n",
       "   'NPV': 0.9999999980000001,\n",
       "   'FPR': 0.0,\n",
       "   'FDR': 0.0,\n",
       "   'F1': 0.0,\n",
       "   'F2': 0.0}},\n",
       " {'label': 5,\n",
       "  'metrics': {'accuracy': 100.0,\n",
       "   'TP': 0,\n",
       "   'FP': 0,\n",
       "   'FN': 0,\n",
       "   'TN': 5,\n",
       "   'recall': 0.0,\n",
       "   'preicision:': 0.0,\n",
       "   'NPV': 0.9999999980000001,\n",
       "   'FPR': 0.0,\n",
       "   'FDR': 0.0,\n",
       "   'F1': 0.0,\n",
       "   'F2': 0.0}},\n",
       " {'label': 6,\n",
       "  'metrics': {'accuracy': 100.0,\n",
       "   'TP': 0,\n",
       "   'FP': 0,\n",
       "   'FN': 0,\n",
       "   'TN': 5,\n",
       "   'recall': 0.0,\n",
       "   'preicision:': 0.0,\n",
       "   'NPV': 0.9999999980000001,\n",
       "   'FPR': 0.0,\n",
       "   'FDR': 0.0,\n",
       "   'F1': 0.0,\n",
       "   'F2': 0.0}},\n",
       " {'label': 7,\n",
       "  'metrics': {'accuracy': 100.0,\n",
       "   'TP': 0,\n",
       "   'FP': 0,\n",
       "   'FN': 0,\n",
       "   'TN': 5,\n",
       "   'recall': 0.0,\n",
       "   'preicision:': 0.0,\n",
       "   'NPV': 0.9999999980000001,\n",
       "   'FPR': 0.0,\n",
       "   'FDR': 0.0,\n",
       "   'F1': 0.0,\n",
       "   'F2': 0.0}},\n",
       " {'label': 8,\n",
       "  'metrics': {'accuracy': 100.0,\n",
       "   'TP': 0,\n",
       "   'FP': 0,\n",
       "   'FN': 0,\n",
       "   'TN': 5,\n",
       "   'recall': 0.0,\n",
       "   'preicision:': 0.0,\n",
       "   'NPV': 0.9999999980000001,\n",
       "   'FPR': 0.0,\n",
       "   'FDR': 0.0,\n",
       "   'F1': 0.0,\n",
       "   'F2': 0.0}},\n",
       " {'label': 9,\n",
       "  'metrics': {'accuracy': 100.0,\n",
       "   'TP': 0,\n",
       "   'FP': 0,\n",
       "   'FN': 0,\n",
       "   'TN': 5,\n",
       "   'recall': 0.0,\n",
       "   'preicision:': 0.0,\n",
       "   'NPV': 0.9999999980000001,\n",
       "   'FPR': 0.0,\n",
       "   'FDR': 0.0,\n",
       "   'F1': 0.0,\n",
       "   'F2': 0.0}}]"
      ]
     },
     "execution_count": 14,
     "metadata": {},
     "output_type": "execute_result"
    }
   ],
   "source": [
    "evaluation1_results"
   ]
  },
  {
   "cell_type": "code",
   "execution_count": 12,
   "metadata": {},
   "outputs": [
    {
     "data": {
      "text/plain": [
       "{'overall_accuracy': 1.0,\n",
       " 'localization_accuracies': array([1.72312782e-05, 8.81000347e-06, 7.52105651e-06, 1.50334132e-05,\n",
       "        6.87800483e-06])}"
      ]
     },
     "execution_count": 12,
     "metadata": {},
     "output_type": "execute_result"
    }
   ],
   "source": [
    "evaluation2_results"
   ]
  },
  {
   "cell_type": "code",
   "execution_count": 15,
   "metadata": {},
   "outputs": [],
   "source": [
    "import pickle"
   ]
  },
  {
   "cell_type": "code",
   "execution_count": 16,
   "metadata": {},
   "outputs": [],
   "source": [
    "a = np.array([[1, 2, 3], [2, 4, 5], [3, 4, 6]])"
   ]
  },
  {
   "cell_type": "code",
   "execution_count": 17,
   "metadata": {},
   "outputs": [
    {
     "data": {
      "text/plain": [
       "array([[1, 2, 3],\n",
       "       [2, 4, 5],\n",
       "       [3, 4, 6]])"
      ]
     },
     "execution_count": 17,
     "metadata": {},
     "output_type": "execute_result"
    }
   ],
   "source": [
    "a"
   ]
  },
  {
   "cell_type": "code",
   "execution_count": 19,
   "metadata": {},
   "outputs": [],
   "source": [
    "a[a == 1] = 7"
   ]
  },
  {
   "cell_type": "code",
   "execution_count": 20,
   "metadata": {},
   "outputs": [
    {
     "data": {
      "text/plain": [
       "array([[7, 2, 3],\n",
       "       [2, 4, 5],\n",
       "       [3, 4, 6]])"
      ]
     },
     "execution_count": 20,
     "metadata": {},
     "output_type": "execute_result"
    }
   ],
   "source": [
    "a"
   ]
  },
  {
   "cell_type": "code",
   "execution_count": null,
   "metadata": {},
   "outputs": [],
   "source": []
  }
 ],
 "metadata": {
  "kernelspec": {
   "display_name": "Python 3",
   "language": "python",
   "name": "python3"
  },
  "language_info": {
   "codemirror_mode": {
    "name": "ipython",
    "version": 3
   },
   "file_extension": ".py",
   "mimetype": "text/x-python",
   "name": "python",
   "nbconvert_exporter": "python",
   "pygments_lexer": "ipython3",
   "version": "3.7.2"
  }
 },
 "nbformat": 4,
 "nbformat_minor": 2
}
